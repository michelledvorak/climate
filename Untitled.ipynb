{
 "cells": [
  {
   "cell_type": "code",
   "execution_count": 1,
   "id": "16e387fd-47a9-41a6-8b31-fa245af02aca",
   "metadata": {},
   "outputs": [
    {
     "ename": "ImportError",
     "evalue": "cannot import name 'ssp119' from 'fair.SSPs' (unknown location)",
     "output_type": "error",
     "traceback": [
      "\u001b[0;31m---------------------------------------------------------------------------\u001b[0m",
      "\u001b[0;31mImportError\u001b[0m                               Traceback (most recent call last)",
      "\u001b[0;32m<ipython-input-1-e0bc26de3b64>\u001b[0m in \u001b[0;36m<module>\u001b[0;34m\u001b[0m\n\u001b[0;32m----> 1\u001b[0;31m \u001b[0;32mfrom\u001b[0m \u001b[0mfair\u001b[0m\u001b[0;34m.\u001b[0m\u001b[0mSSPs\u001b[0m \u001b[0;32mimport\u001b[0m \u001b[0mssp119\u001b[0m\u001b[0;34m,\u001b[0m \u001b[0mssp370_lowNTCF\u001b[0m\u001b[0;34m\u001b[0m\u001b[0;34m\u001b[0m\u001b[0m\n\u001b[0m",
      "\u001b[0;31mImportError\u001b[0m: cannot import name 'ssp119' from 'fair.SSPs' (unknown location)"
     ]
    }
   ],
   "source": [
    "from fair.SSPs import ssp119, ssp370_lowNTCF"
   ]
  },
  {
   "cell_type": "code",
   "execution_count": null,
   "id": "e34c1e2d-052c-4074-b794-d7213b03ee0b",
   "metadata": {},
   "outputs": [],
   "source": []
  }
 ],
 "metadata": {
  "kernelspec": {
   "display_name": "Python 3",
   "language": "python",
   "name": "python3"
  },
  "language_info": {
   "codemirror_mode": {
    "name": "ipython",
    "version": 3
   },
   "file_extension": ".py",
   "mimetype": "text/x-python",
   "name": "python",
   "nbconvert_exporter": "python",
   "pygments_lexer": "ipython3",
   "version": "3.7.10"
  }
 },
 "nbformat": 4,
 "nbformat_minor": 5
}
